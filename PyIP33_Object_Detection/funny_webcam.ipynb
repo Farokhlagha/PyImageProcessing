{
 "cells": [
  {
   "cell_type": "code",
   "execution_count": null,
   "metadata": {},
   "outputs": [],
   "source": [
    "import cv2 \n",
    "\n",
    "cap = cv2.VideoCapture(0)\n",
    "_, frame= cap.read()\n",
    "frame=cv2.cvtColor(frame,cv2.COLOR_BGR2GRAY)\n",
    "h, w= frame.shape\n",
    "\n",
    "image= cv2.imread(\"input\\katy-perry.jpg\", -1)\n",
    "image= cv2.resize(image, (h, w))\n",
    "\n",
    "while True :   \n",
    "      \n",
    "    cv2.imshow(\"funny filter\" , image)   \n",
    "    _, frame = cap.read()\n",
    "    image[230:290 , 200:280] = frame[300:360 , 200:280]\n",
    "\n",
    "    if cv2.waitKey(25) & 0xFF == ord(\"q\"):\n",
    "        break"
   ]
  }
 ],
 "metadata": {
  "kernelspec": {
   "display_name": "Python 3",
   "language": "python",
   "name": "python3"
  },
  "language_info": {
   "codemirror_mode": {
    "name": "ipython",
    "version": 3
   },
   "file_extension": ".py",
   "mimetype": "text/x-python",
   "name": "python",
   "nbconvert_exporter": "python",
   "pygments_lexer": "ipython3",
   "version": "3.10.8"
  }
 },
 "nbformat": 4,
 "nbformat_minor": 2
}
