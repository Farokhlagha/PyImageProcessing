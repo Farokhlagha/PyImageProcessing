{
 "cells": [
  {
   "cell_type": "code",
   "execution_count": null,
   "metadata": {},
   "outputs": [],
   "source": [
    "\n",
    "# Implement cv2.boundingRect() function from scratch.\n",
    "# x, y, w, h = cv2.boundingRect(contour)"
   ]
  },
  {
   "cell_type": "code",
   "execution_count": null,
   "metadata": {},
   "outputs": [],
   "source": [
    "import cv2\n",
    "import numpy as np"
   ]
  },
  {
   "cell_type": "code",
   "execution_count": 1,
   "metadata": {},
   "outputs": [],
   "source": [
    "def boundingRect(contour):\n",
    "    # initialize min and max values for x and y\n",
    "    min_x = min_y = float('inf')\n",
    "    max_x = max_y = 0\n",
    "    \n",
    "    # iterate over all points in the contour\n",
    "    for point in contour:\n",
    "        x, y = point[0]  # extract x and y coordinates\n",
    "        \n",
    "        # update min and max values\n",
    "        min_x = min(min_x, x)\n",
    "        min_y = min(min_y, y)\n",
    "        max_x = max(max_x, x)\n",
    "        max_y = max(max_y, y)\n",
    "    \n",
    "    # calculate width and height\n",
    "    width = max_x - min_x\n",
    "    height = max_y - min_y\n",
    "    \n",
    "    # return the bounding rectangle as (x, y, width, height)\n",
    "    return min_x, min_y, width, height"
   ]
  }
 ],
 "metadata": {
  "kernelspec": {
   "display_name": "Python 3",
   "language": "python",
   "name": "python3"
  },
  "language_info": {
   "codemirror_mode": {
    "name": "ipython",
    "version": 3
   },
   "file_extension": ".py",
   "mimetype": "text/x-python",
   "name": "python",
   "nbconvert_exporter": "python",
   "pygments_lexer": "ipython3",
   "version": "3.10.8"
  }
 },
 "nbformat": 4,
 "nbformat_minor": 2
}
